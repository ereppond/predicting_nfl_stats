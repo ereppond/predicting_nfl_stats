{
 "cells": [
  {
   "cell_type": "code",
   "execution_count": 85,
   "metadata": {},
   "outputs": [],
   "source": [
    "import pandas as pd\n",
    "import scipy.stats as scs\n",
    "import matplotlib.pyplot as plt\n",
    "%matplotlib inline\n",
    "import numpy as np\n",
    "pd.set_option('display.max_columns', None)\n",
    "\n",
    "from sklearn.ensemble import RandomForestClassifier\n",
    "from sklearn.metrics import (precision_score,\n",
    "                             recall_score,\n",
    "                             confusion_matrix)\n",
    "from sklearn.model_selection import train_test_split\n",
    "import datetime as DT\n",
    "from sklearn.linear_model import LinearRegression\n",
    "from sklearn.tree import DecisionTreeRegressor\n",
    "from sklearn.ensemble import RandomForestRegressor\n",
    "from sklearn.ensemble import GradientBoostingRegressor\n",
    "from sklearn.ensemble import AdaBoostRegressor\n",
    "from sklearn.datasets import load_boston\n",
    "from sklearn.model_selection import train_test_split, cross_val_score\n",
    "from sklearn.model_selection import GridSearchCV\n",
    "from sklearn.metrics import mean_squared_error, r2_score"
   ]
  },
  {
   "cell_type": "code",
   "execution_count": 86,
   "metadata": {},
   "outputs": [],
   "source": [
    "df_1 = pd.read_csv('data/data_with_differences.csv')"
   ]
  },
  {
   "cell_type": "code",
   "execution_count": 87,
   "metadata": {},
   "outputs": [],
   "source": [
    "df_1.columns\n",
    "df_2 = df_1.drop(['Unnamed: 0', 'GS_2011', 'Att_2011', 'Yds_2011', \n",
    "           'TD_2011', 'Lng_2011', 'Y/A_2011','Y/G_2011', \n",
    "           'A/G_2011', 'GS_2012', 'Att_2012', 'Yds_2012', \n",
    "           'TD_2012', 'Lng_2012', 'Y/A_2012', 'Y/G_2012', \n",
    "           'A/G_2012', 'GS_2013', 'Att_2013', 'Yds_2013', \n",
    "           'TD_2013', 'Lng_2013', 'Y/A_2013', 'Y/G_2013', \n",
    "           'A/G_2013', 'GS_2014', 'Att_2014', 'Yds_2014',\n",
    "           'TD_2014', 'Lng_2014', 'Y/A_2014', 'Y/G_2014', \n",
    "           'A/G_2014', 'GS_2015', 'Att_2015', 'Yds_2015', \n",
    "           'TD_2015', 'Lng_2015', 'Y/A_2015', 'Y/G_2015', \n",
    "           'A/G_2015'], axis=1)"
   ]
  },
  {
   "cell_type": "code",
   "execution_count": 115,
   "metadata": {},
   "outputs": [],
   "source": [
    "# df_3 is the df_2 disregarding the players who are no longer in the nfl (aka whos team value is nan)\n",
    "#df_3 = df_2.drop(df_2[df_2['Team_2016'].isnull() == True].index, axis=0)\n",
    "\n",
    "df_3.drop(df_3[df_3['Pos'] != 'RB'].index, axis=0, inplace=True)\n",
    "df_3['Pos'] = df_3['Pos'].apply(lambda x: str(x))\n",
    "\n",
    "df_4 = pd.concat([df_3, pd.get_dummies(df_4['Team_2016'])], axis=1)\n",
    "df_4 = df_4.fillna(0)\n",
    "\n",
    "df_4.drop(['Team_2011', 'Team_2012', 'Team_2013', 'Team_2014', 'Team_2015', 'Team_2016', 'Pos'], axis=1, inplace=True)"
   ]
  },
  {
   "cell_type": "code",
   "execution_count": 120,
   "metadata": {},
   "outputs": [],
   "source": [
    "X = df_4.drop(['Name', 'Yds_2016'], axis=1).values\n",
    "y = df_4['Yds_2016']"
   ]
  },
  {
   "cell_type": "code",
   "execution_count": 131,
   "metadata": {},
   "outputs": [],
   "source": [
    "X_train, X_test, y_train, y_test = train_test_split(X, y)"
   ]
  },
  {
   "cell_type": "code",
   "execution_count": 134,
   "metadata": {},
   "outputs": [
    {
     "data": {
      "text/plain": [
       "LinearRegression(copy_X=True, fit_intercept=True, n_jobs=1, normalize=False)"
      ]
     },
     "execution_count": 134,
     "metadata": {},
     "output_type": "execute_result"
    }
   ],
   "source": [
    "linear = LinearRegression()\n",
    "linear.fit(X_train, y_train)"
   ]
  },
  {
   "cell_type": "code",
   "execution_count": 137,
   "metadata": {},
   "outputs": [
    {
     "data": {
      "text/plain": [
       "0.82455839500731842"
      ]
     },
     "execution_count": 137,
     "metadata": {},
     "output_type": "execute_result"
    }
   ],
   "source": [
    "linear.score(X_test, y_test)"
   ]
  },
  {
   "cell_type": "code",
   "execution_count": 138,
   "metadata": {},
   "outputs": [],
   "source": [
    "rf = RandomForestRegressor()"
   ]
  },
  {
   "cell_type": "code",
   "execution_count": 139,
   "metadata": {},
   "outputs": [
    {
     "data": {
      "text/plain": [
       "0.93381082734696241"
      ]
     },
     "execution_count": 139,
     "metadata": {},
     "output_type": "execute_result"
    }
   ],
   "source": [
    "rf.fit(X_train, y_train)\n",
    "rf.score(X_test, y_test)"
   ]
  },
  {
   "cell_type": "code",
   "execution_count": null,
   "metadata": {},
   "outputs": [],
   "source": []
  }
 ],
 "metadata": {
  "kernelspec": {
   "display_name": "Python 3",
   "language": "python",
   "name": "python3"
  },
  "language_info": {
   "codemirror_mode": {
    "name": "ipython",
    "version": 3
   },
   "file_extension": ".py",
   "mimetype": "text/x-python",
   "name": "python",
   "nbconvert_exporter": "python",
   "pygments_lexer": "ipython3",
   "version": "3.6.3"
  }
 },
 "nbformat": 4,
 "nbformat_minor": 2
}
